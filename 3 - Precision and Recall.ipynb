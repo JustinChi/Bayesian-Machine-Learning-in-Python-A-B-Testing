{
 "cells": [
  {
   "cell_type": "code",
   "execution_count": 1,
   "metadata": {},
   "outputs": [],
   "source": [
    "#\n",
    "# P(predicted = 1 | true = 1) - TPR = true positive rate (sometimes called sensitivty)\n",
    "#"
   ]
  },
  {
   "cell_type": "markdown",
   "metadata": {},
   "source": [
    "Using Bayes rule:\n",
    "    \n",
    "    P(predicted = 1 | true = 1) = P(predicted = 1 , true = 1) / P( true = 1) \n",
    "    \n",
    "    for example for disease classification\n",
    "    \n",
    "    P(predicted = 1 | disease = 1) = P(predicted = 1, disease = 1) / P(disease = 1)"
   ]
  },
  {
   "cell_type": "markdown",
   "metadata": {},
   "source": [
    "***\n",
    "\n",
    "Four classes \n",
    "\n",
    "TP = true positive \n",
    "\n",
    "FP = false positive \n",
    "\n",
    "FN = false negative\n",
    "\n",
    "FP = false positive\n"
   ]
  },
  {
   "cell_type": "code",
   "execution_count": 2,
   "metadata": {},
   "outputs": [],
   "source": [
    "from sklearn.metrics import confusion_matrix\n",
    "\n",
    "y_true = [1, 0, 1, 1, 0, 1, 1, 1, 1, 0, 0, 0, 1, 0]\n",
    "y_pred = [0, 0, 1, 1, 0, 0, 1, 1, 1, 0, 0, 1, 0, 0]\n"
   ]
  },
  {
   "cell_type": "code",
   "execution_count": 3,
   "metadata": {},
   "outputs": [
    {
     "name": "stdout",
     "output_type": "stream",
     "text": [
      "5 1 3 5\n"
     ]
    }
   ],
   "source": [
    "tn, fp, fn, tp = confusion_matrix(y_true, y_pred).ravel()\n",
    "print(tn, fp, fn, tp)"
   ]
  },
  {
   "cell_type": "code",
   "execution_count": 4,
   "metadata": {},
   "outputs": [
    {
     "name": "stdout",
     "output_type": "stream",
     "text": [
      "population: 14\n",
      "P: 8\n",
      "N: 6\n",
      "PositiveTest: 6\n",
      "NegativeTest: 8\n",
      "TP: 5\n",
      "TN: 5\n",
      "FP: 1\n",
      "FN: 3\n",
      "TPR: 0.625\n",
      "TNR: 0.8333333333333334\n",
      "PPV: 0.8333333333333334\n",
      "NPV: 0.625\n",
      "FPR: 0.16666666666666666\n",
      "FDR: 0.16666666666666666\n",
      "FNR: 0.375\n",
      "ACC: 0.7142857142857143\n",
      "F1_score: 0.7142857142857143\n",
      "MCC: 0.4583333333333333\n",
      "informedness: 0.4583333333333335\n",
      "markedness: 0.4583333333333335\n",
      "prevalence: 0.5714285714285714\n",
      "LRP: 3.75\n",
      "LRN: 0.44999999999999996\n",
      "DOR: 8.333333333333334\n",
      "FOR: 0.375\n"
     ]
    }
   ],
   "source": [
    "from pandas_ml import ConfusionMatrix\n",
    "\n",
    "cm = ConfusionMatrix(y_true, y_pred)\n",
    "\n",
    "cm.print_stats()"
   ]
  },
  {
   "cell_type": "code",
   "execution_count": 5,
   "metadata": {},
   "outputs": [],
   "source": [
    "import numpy as np\n",
    "import matplotlib.pyplot as plt\n",
    "import itertools\n",
    "from sklearn.metrics import classification_report\n",
    "\n",
    "def pretty_print_conf_matrix(y_true, y_pred, \n",
    "                             classes,\n",
    "                             normalize=False,\n",
    "                             title='Confusion matrix',\n",
    "                             cmap=plt.cm.Blues):\n",
    "    \"\"\"\n",
    "    Mostly stolen from: http://scikit-learn.org/stable/auto_examples/model_selection/plot_confusion_matrix.html#sphx-glr-auto-examples-model-selection-plot-confusion-matrix-py\n",
    "\n",
    "    Normalization changed, classification_report stats added below plot\n",
    "    \"\"\"\n",
    "\n",
    "    cm = confusion_matrix(y_true, y_pred)\n",
    "\n",
    "    # Configure Confusion Matrix Plot Aesthetics (no text yet) \n",
    "    plt.imshow(cm, interpolation='nearest', cmap=cmap)\n",
    "    plt.title(title, fontsize=14)\n",
    "    tick_marks = np.arange(len(classes))\n",
    "    plt.xticks(tick_marks, classes, rotation=45)\n",
    "    plt.yticks(tick_marks, classes)\n",
    "    plt.ylabel('True label', fontsize=12)\n",
    "    plt.xlabel('Predicted label', fontsize=12)\n",
    "\n",
    "    # Calculate normalized values (so all cells sum to 1) if desired\n",
    "    if normalize:\n",
    "        cm = np.round(cm.astype('float') / cm.sum(),2) #(axis=1)[:, np.newaxis]\n",
    "\n",
    "    # Place Numbers as Text on Confusion Matrix Plot\n",
    "    thresh = cm.max() / 2.\n",
    "    for i, j in itertools.product(range(cm.shape[0]), range(cm.shape[1])):\n",
    "        plt.text(j, i, cm[i, j],\n",
    "                 horizontalalignment=\"center\",\n",
    "                 color=\"white\" if cm[i, j] > thresh else \"black\",\n",
    "                 fontsize=12)\n",
    "\n",
    "\n",
    "    # Add Precision, Recall, F-1 Score as Captions Below Plot\n",
    "    rpt = classification_report(y_true, y_pred)\n",
    "    rpt = rpt.replace('avg / total', '      avg')\n",
    "    rpt = rpt.replace('support', 'N Obs')\n",
    "\n",
    "    plt.annotate(rpt, \n",
    "                 xy = (0,0), \n",
    "                 xytext = (-50, -140), \n",
    "                 xycoords='axes fraction', textcoords='offset points',\n",
    "                 fontsize=12, ha='left')    \n",
    "\n",
    "    # Plot\n",
    "    plt.tight_layout()"
   ]
  },
  {
   "cell_type": "code",
   "execution_count": 6,
   "metadata": {},
   "outputs": [
    {
     "data": {
      "image/png": "[encoded data removed]",
      "text/plain": [
       "<Figure size 240x240 with 1 Axes>"
      ]
     },
     "metadata": {},
     "output_type": "display_data"
    }
   ],
   "source": [
    "plt.style.use('classic')\n",
    "plt.figure(figsize=(3,3))\n",
    "pretty_print_conf_matrix(y_true, y_pred, \n",
    "                         classes= ['0', '1'],\n",
    "                         normalize=False, \n",
    "                         title='Confusion Matrix')"
   ]
  },
  {
   "cell_type": "code",
   "execution_count": 7,
   "metadata": {},
   "outputs": [],
   "source": [
    "#\n",
    "# Probabilities\n",
    "#"
   ]
  },
  {
   "cell_type": "markdown",
   "metadata": {},
   "source": [
    "    \n",
    "    P(pred = 1 | true = 1) = P(pred = 1 , true = 1) / P(true=1) = using maximum likelihood = \n",
    "    \n",
    "    [TP/N] / [ (TP + FN) / N] = TP / (TP + FN) \n",
    "    \n",
    "    it is a TPR = true positive rate or sensitivty or recall or hit rate"
   ]
  },
  {
   "cell_type": "markdown",
   "metadata": {},
   "source": [
    "***\n",
    "    \n",
    "    P(pred = 0 | true = 0) = P(pred = 0 , true = 0) / P(true=0) = using maximum likelihood =\n",
    "    \n",
    "    [TN/N] / [ (TN + FP) / N] = TN / (TN + FP) \n",
    "    \n",
    "    it is a TNR = true negative rate or specificity "
   ]
  },
  {
   "cell_type": "markdown",
   "metadata": {},
   "source": [
    "***\n",
    "\n",
    "     Precision or positive predictive value (PPV) = \n",
    "    \n",
    "     TP / (TP + FP) =\n",
    "     \n",
    "     [TP/N] / [(TP + FP)/N] = \n",
    "     \n",
    "     P(pred = 1 | true = 1) / P(true = 1) = \n",
    "     \n",
    "     P(true = 1 | pred = 1) \n",
    "     "
   ]
  },
  {
   "cell_type": "code",
   "execution_count": null,
   "metadata": {},
   "outputs": [],
   "source": []
  }
 ],
 "metadata": {
  "kernelspec": {
   "display_name": "Python 3",
   "language": "python",
   "name": "python3"
  },
  "language_info": {
   "codemirror_mode": {
    "name": "ipython",
    "version": 3
   },
   "file_extension": ".py",
   "mimetype": "text/x-python",
   "name": "python",
   "nbconvert_exporter": "python",
   "pygments_lexer": "ipython3",
   "version": "3.6.5"
  }
 },
 "nbformat": 4,
 "nbformat_minor": 2
}
