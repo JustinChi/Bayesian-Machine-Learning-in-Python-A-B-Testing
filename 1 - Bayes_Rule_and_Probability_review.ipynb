{
 "cells": [
  {
   "cell_type": "code",
   "execution_count": 1,
   "metadata": {},
   "outputs": [],
   "source": [
    "#\n",
    "# Bayes Rule and Probability review; based on the course from Lazy programmer \n",
    "#"
   ]
  },
  {
   "cell_type": "markdown",
   "metadata": {},
   "source": [
    "P(A|B) = P(A,B) / P(B) \n",
    "\n",
    "Conditional probability P(A|B) is equal to joint probability P(A, B) /  marginal probability P(B)\n",
    "\n",
    "Conditional probability is a probability of A if B is given \n",
    "\n"
   ]
  },
  {
   "cell_type": "code",
   "execution_count": 2,
   "metadata": {},
   "outputs": [],
   "source": [
    "# Bayes example "
   ]
  },
  {
   "cell_type": "code",
   "execution_count": 3,
   "metadata": {},
   "outputs": [],
   "source": [
    "import pandas as pd\n",
    "import numpy as np"
   ]
  },
  {
   "cell_type": "code",
   "execution_count": 4,
   "metadata": {},
   "outputs": [],
   "source": [
    "# we want to find P(Buy | Country) "
   ]
  },
  {
   "cell_type": "code",
   "execution_count": 5,
   "metadata": {},
   "outputs": [],
   "source": [
    "data = [ [20, 50, 10], [300, 500, 200]] # how many people bought or did not but some products in CA, US, MX "
   ]
  },
  {
   "cell_type": "code",
   "execution_count": 6,
   "metadata": {},
   "outputs": [],
   "source": [
    "data = np.array(data)"
   ]
  },
  {
   "cell_type": "code",
   "execution_count": 7,
   "metadata": {},
   "outputs": [
    {
     "data": {
      "text/html": [
       "<div>\n",
       "<style scoped>\n",
       "    .dataframe tbody tr th:only-of-type {\n",
       "        vertical-align: middle;\n",
       "    }\n",
       "\n",
       "    .dataframe tbody tr th {\n",
       "        vertical-align: top;\n",
       "    }\n",
       "\n",
       "    .dataframe thead th {\n",
       "        text-align: right;\n",
       "    }\n",
       "</style>\n",
       "<table border=\"1\" class=\"dataframe\">\n",
       "  <thead>\n",
       "    <tr style=\"text-align: right;\">\n",
       "      <th></th>\n",
       "      <th>CA</th>\n",
       "      <th>US</th>\n",
       "      <th>MX</th>\n",
       "    </tr>\n",
       "  </thead>\n",
       "  <tbody>\n",
       "    <tr>\n",
       "      <th>Buy = 1 (did buy)</th>\n",
       "      <td>20</td>\n",
       "      <td>50</td>\n",
       "      <td>10</td>\n",
       "    </tr>\n",
       "    <tr>\n",
       "      <th>Buy = 0 (did not buy)</th>\n",
       "      <td>300</td>\n",
       "      <td>500</td>\n",
       "      <td>200</td>\n",
       "    </tr>\n",
       "  </tbody>\n",
       "</table>\n",
       "</div>"
      ],
      "text/plain": [
       "                        CA   US   MX\n",
       "Buy = 1 (did buy)       20   50   10\n",
       "Buy = 0 (did not buy)  300  500  200"
      ]
     },
     "execution_count": 7,
     "metadata": {},
     "output_type": "execute_result"
    }
   ],
   "source": [
    "df = pd.DataFrame(data,columns=['CA','US', 'MX'])\n",
    "df.rename({0: 'Buy = 1 (did buy)', 1: 'Buy = 0 (did not buy)'})"
   ]
  },
  {
   "cell_type": "code",
   "execution_count": 8,
   "metadata": {},
   "outputs": [],
   "source": [
    "# first row how many people bought products in CA, US, MX\n",
    "# second row how many people did not buy products in CA, US, MX "
   ]
  },
  {
   "cell_type": "code",
   "execution_count": 9,
   "metadata": {},
   "outputs": [],
   "source": [
    "#\n",
    "# Marginal probability P(Country)\n",
    "#"
   ]
  },
  {
   "cell_type": "markdown",
   "metadata": {},
   "source": [
    "maximum likelihood estimate \n",
    "\n",
    "P(MEXICO) = All in MX / All"
   ]
  },
  {
   "cell_type": "code",
   "execution_count": 10,
   "metadata": {},
   "outputs": [],
   "source": [
    "P_MX =  df['MX'].sum()  / df.values.sum()"
   ]
  },
  {
   "cell_type": "code",
   "execution_count": 11,
   "metadata": {
    "scrolled": true
   },
   "outputs": [
    {
     "name": "stdout",
     "output_type": "stream",
     "text": [
      "0.19444444444444445\n"
     ]
    }
   ],
   "source": [
    "print(P_MX)"
   ]
  },
  {
   "cell_type": "code",
   "execution_count": 12,
   "metadata": {},
   "outputs": [],
   "source": [
    "P_US = df['US'].sum()  / df.values.sum() "
   ]
  },
  {
   "cell_type": "code",
   "execution_count": 13,
   "metadata": {},
   "outputs": [],
   "source": [
    "P_CA = df['CA'].sum()  / df.values.sum() "
   ]
  },
  {
   "cell_type": "code",
   "execution_count": 14,
   "metadata": {},
   "outputs": [
    {
     "name": "stdout",
     "output_type": "stream",
     "text": [
      "P(Country = Mexico) = + 0.19444444444444445\n",
      "P(Country = USA) = + 0.5092592592592593\n",
      "P(Country = Canada) = + 0.2962962962962963\n"
     ]
    }
   ],
   "source": [
    "print('P(Country = Mexico) = + ' + str(P_MX))\n",
    "print('P(Country = USA) = + ' + str(P_US))\n",
    "print('P(Country = Canada) = + ' + str(P_CA))"
   ]
  },
  {
   "cell_type": "code",
   "execution_count": 15,
   "metadata": {},
   "outputs": [],
   "source": [
    "#\n",
    "# Joint probabilities \n",
    "#"
   ]
  },
  {
   "cell_type": "markdown",
   "metadata": {},
   "source": [
    "How many different possibilities do we have here\n",
    "\n",
    "Buy = 2 options \n",
    "\n",
    "Countr = 3 values \n",
    "\n",
    "Total number of possibilities = 2 * 3 = 6 \n",
    "\n",
    "It grows exponentialy as we add more variables\n",
    "\n",
    "So let's calculate all 6 possibilities \n",
    "\n",
    "P(Buy = 1, Country = Mexico), P(Buy = 0, Country = Mexico), ...\n",
    "\n",
    "P(Buy = 1, Country = Mexico) = people who bought in Mexico / All people"
   ]
  },
  {
   "cell_type": "code",
   "execution_count": 16,
   "metadata": {},
   "outputs": [],
   "source": [
    "P_1_MX = df['MX'].iloc[0] / df.values.sum() "
   ]
  },
  {
   "cell_type": "code",
   "execution_count": 17,
   "metadata": {},
   "outputs": [],
   "source": [
    "P_0_MX = df['MX'].iloc[1] / df.values.sum() "
   ]
  },
  {
   "cell_type": "code",
   "execution_count": 18,
   "metadata": {},
   "outputs": [],
   "source": [
    "P_1_US = df['US'].iloc[0] / df.values.sum() "
   ]
  },
  {
   "cell_type": "code",
   "execution_count": 19,
   "metadata": {},
   "outputs": [],
   "source": [
    "P_0_US = df['US'].iloc[1] / df.values.sum() "
   ]
  },
  {
   "cell_type": "code",
   "execution_count": 20,
   "metadata": {},
   "outputs": [],
   "source": [
    "P_1_CA = df['CA'].iloc[0] / df.values.sum() "
   ]
  },
  {
   "cell_type": "code",
   "execution_count": 21,
   "metadata": {},
   "outputs": [],
   "source": [
    "P_0_CA = df['CA'].iloc[1] / df.values.sum() "
   ]
  },
  {
   "cell_type": "code",
   "execution_count": 22,
   "metadata": {},
   "outputs": [
    {
     "name": "stdout",
     "output_type": "stream",
     "text": [
      "p(Buy = 1, Country = CA) = 0.018518518518518517\n",
      "p(Buy = 0, Country = CA) = 0.2777777777777778\n",
      "p(Buy = 1, Country = US) = 0.046296296296296294\n",
      "p(Buy = 0, Country = US) = 0.46296296296296297\n",
      "p(Buy = 1, Country = MX) = 0.009259259259259259\n",
      "p(Buy = 0, Country = MX) = 0.18518518518518517\n"
     ]
    }
   ],
   "source": [
    "print('p(Buy = 1, Country = CA) = ' + str(P_1_CA ))\n",
    "print('p(Buy = 0, Country = CA) = ' + str(P_0_CA ))\n",
    "print('p(Buy = 1, Country = US) = ' + str(P_1_US ))\n",
    "print('p(Buy = 0, Country = US) = ' + str(P_0_US ))\n",
    "print('p(Buy = 1, Country = MX) = ' + str(P_1_MX ))\n",
    "print('p(Buy = 0, Country = MX) = ' + str(P_0_MX ))"
   ]
  },
  {
   "cell_type": "code",
   "execution_count": 23,
   "metadata": {},
   "outputs": [],
   "source": [
    "#\n",
    "# OK, now we can calculate Conditional probabilities\n",
    "#"
   ]
  },
  {
   "cell_type": "markdown",
   "metadata": {},
   "source": [
    "P(A|B) = P(A,B) + P(B) \n",
    "\n",
    "Conditional probability P(A|B) is equal to joint probability P(A, B) + marginal probability P(B)\n"
   ]
  },
  {
   "cell_type": "code",
   "execution_count": 24,
   "metadata": {},
   "outputs": [],
   "source": [
    "P_cond_1_CA = P_1_CA / P_CA\n",
    "P_cond_0_CA = P_0_CA / P_CA\n",
    "P_cond_1_US = P_1_US / P_US\n",
    "P_cond_0_US = P_0_US / P_US\n",
    "P_cond_1_MX = P_1_MX / P_MX\n",
    "P_cond_0_MX = P_0_MX / P_MX"
   ]
  },
  {
   "cell_type": "code",
   "execution_count": 25,
   "metadata": {},
   "outputs": [
    {
     "name": "stdout",
     "output_type": "stream",
     "text": [
      "p(Buy=1|Country=CA) = 0.0625\n",
      "p(Buy=0|Country=CA) = 0.9375000000000001\n",
      "p(Buy=1|Country=US) = 0.0909090909090909\n",
      "p(Buy=0|Country=US) = 0.9090909090909091\n",
      "p(Buy=1|Country=MX) = 0.047619047619047616\n",
      "p(Buy=0|Country=MX) = 0.9523809523809523\n"
     ]
    }
   ],
   "source": [
    "print( 'p(Buy=1|Country=CA) = ' + str(P_cond_1_CA))\n",
    "print( 'p(Buy=0|Country=CA) = ' + str(P_cond_0_CA))\n",
    "print( 'p(Buy=1|Country=US) = ' + str(P_cond_1_US))\n",
    "print( 'p(Buy=0|Country=US) = ' + str(P_cond_0_US))\n",
    "print( 'p(Buy=1|Country=MX) = ' + str(P_cond_1_MX))\n",
    "print( 'p(Buy=0|Country=MX) = ' + str(P_cond_0_MX))"
   ]
  },
  {
   "cell_type": "markdown",
   "metadata": {},
   "source": [
    "Conditional probability is a probability of A if B is given \n",
    "\n",
    "B is not longer random variable as we are asking what is a probability of A when we have B\n",
    "\n",
    "So P(Buy1| Country=CA) is a probability of buy if a country is Canada"
   ]
  },
  {
   "cell_type": "code",
   "execution_count": 26,
   "metadata": {},
   "outputs": [],
   "source": [
    "#\n",
    "# Conditional probabilities, another way to calculate \n",
    "#"
   ]
  },
  {
   "cell_type": "markdown",
   "metadata": {},
   "source": [
    "p(Buy=1|Country=CA) = P(Buy=1, Country=CA) / P(Country=CA) =\n",
    "\n",
    "( how many people bought in CA / All people ) / ( All people in CA / All people) =\n",
    "\n",
    "how many people bought in CA / All people in CA \n"
   ]
  },
  {
   "cell_type": "code",
   "execution_count": 27,
   "metadata": {},
   "outputs": [],
   "source": [
    "P_cond_1_CA_v2 = df['CA'].iloc[0] / (df['CA'].iloc[0]+df['CA'].iloc[1])\n",
    "P_cond_0_CA_v2 = df['CA'].iloc[1] / (df['CA'].iloc[0]+df['CA'].iloc[1])\n",
    "P_cond_1_US_v2 = df['US'].iloc[0] / (df['US'].iloc[0]+df['US'].iloc[1])\n",
    "P_cond_0_US_v2 = df['US'].iloc[1] / (df['US'].iloc[0]+df['US'].iloc[1])\n",
    "P_cond_1_MX_v2 = df['MX'].iloc[0] / (df['MX'].iloc[0]+df['MX'].iloc[1])\n",
    "P_cond_0_MX_v2 = df['MX'].iloc[1] / (df['MX'].iloc[0]+df['MX'].iloc[1])"
   ]
  },
  {
   "cell_type": "code",
   "execution_count": 28,
   "metadata": {},
   "outputs": [
    {
     "name": "stdout",
     "output_type": "stream",
     "text": [
      "p(Buy=1|Country=CA) = 0.0625\n",
      "p(Buy=0|Country=CA) = 0.9375\n",
      "p(Buy=1|Country=US) = 0.09090909090909091\n",
      "p(Buy=0|Country=US) = 0.9090909090909091\n",
      "p(Buy=1|Country=MX) = 0.047619047619047616\n",
      "p(Buy=0|Country=MX) = 0.9523809523809523\n"
     ]
    }
   ],
   "source": [
    "print( 'p(Buy=1|Country=CA) = ' + str(P_cond_1_CA_v2))\n",
    "print( 'p(Buy=0|Country=CA) = ' + str(P_cond_0_CA_v2))\n",
    "print( 'p(Buy=1|Country=US) = ' + str(P_cond_1_US_v2))\n",
    "print( 'p(Buy=0|Country=US) = ' + str(P_cond_0_US_v2))\n",
    "print( 'p(Buy=1|Country=MX) = ' + str(P_cond_1_MX_v2))\n",
    "print( 'p(Buy=0|Country=MX) = ' + str(P_cond_0_MX_v2))"
   ]
  },
  {
   "cell_type": "code",
   "execution_count": 29,
   "metadata": {},
   "outputs": [],
   "source": [
    "#\n",
    "# let's define function that get's a flag (1 or 0) and string ('CA, MX, US')   \n",
    "# and calculates conditional probability\n",
    "#"
   ]
  },
  {
   "cell_type": "code",
   "execution_count": 30,
   "metadata": {},
   "outputs": [],
   "source": [
    "def calc_prob(flag, country):\n",
    "    if flag not in [0, 1]:\n",
    "        return \"Flag must be 0 or 1\"\n",
    "    if country not in('MX', 'CA', 'US'):\n",
    "        return \"Countr codes to choose from MX, CA, US\"\n",
    "    if flag == 0:\n",
    "        flag = 1\n",
    "    else:\n",
    "        flag = 0\n",
    "    return df[country].iloc[flag] / (df[country].iloc[0]+df[country].iloc[1])"
   ]
  },
  {
   "cell_type": "code",
   "execution_count": 31,
   "metadata": {},
   "outputs": [
    {
     "data": {
      "text/plain": [
       "0.047619047619047616"
      ]
     },
     "execution_count": 31,
     "metadata": {},
     "output_type": "execute_result"
    }
   ],
   "source": [
    "calc_prob(1,'MX')"
   ]
  },
  {
   "cell_type": "code",
   "execution_count": 32,
   "metadata": {},
   "outputs": [
    {
     "data": {
      "text/plain": [
       "0.9523809523809523"
      ]
     },
     "execution_count": 32,
     "metadata": {},
     "output_type": "execute_result"
    }
   ],
   "source": [
    "calc_prob(0,'MX')"
   ]
  },
  {
   "cell_type": "code",
   "execution_count": 33,
   "metadata": {},
   "outputs": [
    {
     "data": {
      "text/plain": [
       "'Countr codes to choose from MX, CA, US'"
      ]
     },
     "execution_count": 33,
     "metadata": {},
     "output_type": "execute_result"
    }
   ],
   "source": [
    "calc_prob(0,'PL')"
   ]
  },
  {
   "cell_type": "code",
   "execution_count": 34,
   "metadata": {},
   "outputs": [],
   "source": [
    "import unittest"
   ]
  },
  {
   "cell_type": "code",
   "execution_count": 35,
   "metadata": {},
   "outputs": [
    {
     "name": "stderr",
     "output_type": "stream",
     "text": [
      ".\n",
      "----------------------------------------------------------------------\n",
      "Ran 1 test in 0.001s\n",
      "\n",
      "OK\n"
     ]
    }
   ],
   "source": [
    "class Check_conditional_probabilities(unittest.TestCase):\n",
    "    def test_MX_buy1(self):\n",
    "        \n",
    "        self.assertAlmostEqual(calc_prob(1,'MX'), P_cond_1_MX)\n",
    "        \n",
    "        self.assertAlmostEqual(calc_prob(0,'MX'), P_cond_0_MX)\n",
    "        \n",
    "        self.assertAlmostEqual(calc_prob(1,'US'), P_cond_1_US)\n",
    "        \n",
    "        self.assertAlmostEqual(calc_prob(0,'US'), P_cond_0_US)\n",
    "        \n",
    "        self.assertAlmostEqual(calc_prob(1,'CA'), P_cond_1_CA)\n",
    "        \n",
    "        self.assertAlmostEqual(calc_prob(0,'CA'), P_cond_0_CA)\n",
    "\n",
    "\n",
    "if __name__ == '__main__':\n",
    "    unittest.main(argv=['first-arg-is-ignored'], exit=False)         "
   ]
  },
  {
   "cell_type": "code",
   "execution_count": 36,
   "metadata": {},
   "outputs": [],
   "source": [
    "#\n",
    "# Independence \n",
    "#"
   ]
  },
  {
   "cell_type": "markdown",
   "metadata": {},
   "source": [
    "When two variables are independent \n",
    "\n",
    "P(A, B) = P(A)*P(B) = joint probability becomes the multiple of the marginals probabilities\n"
   ]
  },
  {
   "cell_type": "code",
   "execution_count": 37,
   "metadata": {},
   "outputs": [],
   "source": [
    "#\n",
    "# Final comments \n",
    "#"
   ]
  },
  {
   "cell_type": "markdown",
   "metadata": {},
   "source": [
    "1) P(A|B) = P(A,B) / P(B) \n",
    "\n",
    "2) P(B|A) = P(B, A) / P(A)\n",
    "\n",
    "\n",
    "since P(A, B) = P(B,A) -> P(B|A) = P(A, B) / P(A) -> P(A, B) = P(B|A)*P(A) \n",
    "\n",
    "3) P(A|B) = P(B|A)*P(A)/P(B)\n",
    "\n",
    "\n"
   ]
  },
  {
   "cell_type": "code",
   "execution_count": 38,
   "metadata": {},
   "outputs": [],
   "source": [
    "#\n",
    "# we don't have P(B) directly but can calculate \n",
    "#"
   ]
  },
  {
   "cell_type": "code",
   "execution_count": 39,
   "metadata": {},
   "outputs": [
    {
     "data": {
      "text/latex": [
       "$$P(B) = \\sum_{A}P(A,B) = \\sum_{A} P(B|A)*P(A)$$"
      ],
      "text/plain": [
       "<IPython.core.display.Math object>"
      ]
     },
     "execution_count": 39,
     "metadata": {},
     "output_type": "execute_result"
    }
   ],
   "source": [
    "from IPython.display import Math\n",
    "Math(r'P(B) = \\sum_{A}P(A,B) = \\sum_{A} P(B|A)*P(A)')"
   ]
  },
  {
   "cell_type": "code",
   "execution_count": 40,
   "metadata": {},
   "outputs": [],
   "source": [
    "# if working with continues distributions, sum turn into integral "
   ]
  },
  {
   "cell_type": "code",
   "execution_count": 41,
   "metadata": {},
   "outputs": [
    {
     "data": {
      "text/latex": [
       "$$P(A|B) = \\frac{P(B|A)*P(A)}{\\int P(B|A)*P(A)dA}$$"
      ],
      "text/plain": [
       "<IPython.core.display.Math object>"
      ]
     },
     "execution_count": 41,
     "metadata": {},
     "output_type": "execute_result"
    }
   ],
   "source": [
    "Math(r'P(A|B) = \\frac{P(B|A)*P(A)}{\\int P(B|A)*P(A)dA}')"
   ]
  },
  {
   "cell_type": "code",
   "execution_count": null,
   "metadata": {},
   "outputs": [],
   "source": []
  }
 ],
 "metadata": {
  "kernelspec": {
   "display_name": "Python 3",
   "language": "python",
   "name": "python3"
  },
  "language_info": {
   "codemirror_mode": {
    "name": "ipython",
    "version": 3
   },
   "file_extension": ".py",
   "mimetype": "text/x-python",
   "name": "python",
   "nbconvert_exporter": "python",
   "pygments_lexer": "ipython3",
   "version": "3.6.5"
  }
 },
 "nbformat": 4,
 "nbformat_minor": 2
}
