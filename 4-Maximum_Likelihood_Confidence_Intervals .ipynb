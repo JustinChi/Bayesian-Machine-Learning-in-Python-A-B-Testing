{
 "cells": [
  {
   "cell_type": "markdown",
   "metadata": {},
   "source": [
    "4 - Maximum Likelihood\n",
    "\n",
    "CTR = click through rate or conversion rate\n",
    "Not a Gaussina distribution!\n",
    "only 2 possible outcomes - Bernoulli distribution\n",
    "\n",
    "cross-entropy cost function in logistic regression is log of Bernoulli likelihood\n",
    "\n"
   ]
  },
  {
   "cell_type": "markdown",
   "metadata": {},
   "source": [
    "Problem setup:\n",
    "    \n",
    "H = click, T = No click, H+T = total; H and T are independent and identically distributed \n",
    "\n",
    "p(H) = p so p(T) = 1-p\n",
    "\n",
    "Suppose we flip 2H and 3T \n",
    "\n",
    "What is the total likelihood??"
   ]
  },
  {
   "cell_type": "markdown",
   "metadata": {},
   "source": [
    "p(2H) = p * p\n",
    "\n",
    "P(3T) = (1-p)*(1-p)*(1-p)\n"
   ]
  },
  {
   "cell_type": "markdown",
   "metadata": {},
   "source": [
    "L(2H, 3T) = p^2 * (1-p)^3"
   ]
  },
  {
   "cell_type": "markdown",
   "metadata": {},
   "source": [
    "General form:"
   ]
  },
  {
   "cell_type": "markdown",
   "metadata": {},
   "source": [
    "L(NH, NT) = p^(NH) * (1-p)^(NT)"
   ]
  },
  {
   "cell_type": "markdown",
   "metadata": {},
   "source": [
    "What's the maximum likelihood estimate of p? "
   ]
  },
  {
   "cell_type": "markdown",
   "metadata": {},
   "source": [
    "Log-likelihood\n",
    "\n",
    "L = log (L(NH, NT)) = log ( p^(NH) * (1-p)^(NT) ) = NH logp + NT log(1-p)\n",
    "\n",
    "dL/dp = NH/p - NT/(1-p)  \n",
    "\n",
    "dL/dp = 0 -> NH/p - NT/(1-p) = 0 \n",
    "\n",
    "p = NH / (NH + NT)\n",
    "\n"
   ]
  },
  {
   "cell_type": "code",
   "execution_count": 1,
   "metadata": {},
   "outputs": [],
   "source": [
    "#\n",
    "#  Confidence Intervals - Non-Bayesian (Frequentist method)\n",
    "#"
   ]
  },
  {
   "cell_type": "markdown",
   "metadata": {},
   "source": [
    "Uncertainty of measurement of parameters "
   ]
  },
  {
   "cell_type": "code",
   "execution_count": 2,
   "metadata": {},
   "outputs": [],
   "source": [
    "# Sum of random variables"
   ]
  },
  {
   "cell_type": "markdown",
   "metadata": {},
   "source": [
    "The mean of gaussian and bernulli distributions is a sum of a random variables:"
   ]
  },
  {
   "cell_type": "markdown",
   "metadata": {},
   "source": [
    "$ \\hat{\\mu} = \\frac{1}{N} \\sum_{i=1}^{N} x_{i}$"
   ]
  },
  {
   "cell_type": "markdown",
   "metadata": {},
   "source": [
    "mu hat is an estimate of mu\n",
    "\n",
    "Sum of random variables is also random"
   ]
  },
  {
   "cell_type": "markdown",
   "metadata": {},
   "source": [
    "$ \\hat{\\mu} = N(\\mu, \\sigma^{2}/N)$   "
   ]
  },
  {
   "cell_type": "markdown",
   "metadata": {},
   "source": [
    " Central Limit theorem states that sum of random variables tends to a Gaussian distribution"
   ]
  },
  {
   "cell_type": "code",
   "execution_count": 3,
   "metadata": {},
   "outputs": [],
   "source": [
    "#\n",
    "#  More N , variance decreases (sigma goes down)!\n",
    "#"
   ]
  },
  {
   "cell_type": "code",
   "execution_count": 4,
   "metadata": {},
   "outputs": [],
   "source": [
    "#\n",
    "# Confidence Intervals\n",
    "#"
   ]
  },
  {
   "cell_type": "code",
   "execution_count": 5,
   "metadata": {},
   "outputs": [],
   "source": [
    "import random\n",
    "import numpy as np"
   ]
  },
  {
   "cell_type": "code",
   "execution_count": 6,
   "metadata": {},
   "outputs": [],
   "source": [
    "x = np.linspace(-5, 5, 5000)\n",
    "\n",
    "mu = 0\n",
    "sigma = 1\n",
    "\n",
    "y = (1 / (np.sqrt(2 * np.pi * np.power(sigma, 2)))) * \\\n",
    "    (np.power(np.e, -(np.power((x - mu), 2) / (2 * np.power(sigma, 2)))))"
   ]
  },
  {
   "cell_type": "code",
   "execution_count": 7,
   "metadata": {},
   "outputs": [],
   "source": [
    "import matplotlib.pyplot as plt"
   ]
  },
  {
   "cell_type": "code",
   "execution_count": 8,
   "metadata": {},
   "outputs": [
    {
     "data": {
      "image/png": "[encoded data removed]",
      "text/plain": [
       "<Figure size 432x288 with 1 Axes>"
      ]
     },
     "metadata": {},
     "output_type": "display_data"
    }
   ],
   "source": [
    "plt.plot(x,y,color='black')\n",
    "\n",
    "y2 = np.ma.masked_less(y, 0.05)\n",
    "\n",
    "plt.fill_between(x, y2, facecolor='green', interpolate=True)\n",
    "\n",
    "\n",
    "plt.text(-4.4, 0.1, '2.5%', color='r')\n",
    "plt.text(3.8, 0.1, '2.5%', color='r')\n",
    "\n",
    "plt.text(-0.4, 0.1, '95%', color='r')\n",
    "\n",
    "\n",
    "plt.arrow(-4,0.09, 1.5,-0.08, head_width=0.001, head_length=0.01, fc='k', ec='k')\n",
    "plt.arrow(4,0.09, -1.5,-0.08, head_width=0.001, head_length=0.01, fc='k', ec='k')\n",
    "\n",
    "plt.title('Confidence Level')\n",
    "\n",
    "plt.show()"
   ]
  },
  {
   "cell_type": "markdown",
   "metadata": {},
   "source": [
    "We call the confidence level (1 - alpha)\n",
    "\n",
    "We call the significance level alpha\n"
   ]
  },
  {
   "cell_type": "code",
   "execution_count": 9,
   "metadata": {},
   "outputs": [],
   "source": [
    "#\n",
    "# Confidence interval limits \n",
    "#"
   ]
  },
  {
   "cell_type": "markdown",
   "metadata": {},
   "source": [
    "We want to find limits such that area under the Gaussian is 0.95"
   ]
  },
  {
   "cell_type": "markdown",
   "metadata": {},
   "source": [
    "$0.95 = 1 - \\alpha = \\int_{x_{left}}^{x_{right}} N(x, \\sigma^{2}/N) dx  $"
   ]
  },
  {
   "cell_type": "code",
   "execution_count": 10,
   "metadata": {},
   "outputs": [],
   "source": [
    "#\n",
    "# CDF = Cumulative Distribution Function \n",
    "#"
   ]
  },
  {
   "cell_type": "markdown",
   "metadata": {},
   "source": [
    "$ CDF = P(X<=x) = \\int_{-\\infty}^{x} p(x) dx $"
   ]
  },
  {
   "cell_type": "code",
   "execution_count": 11,
   "metadata": {},
   "outputs": [],
   "source": [
    "#\n",
    "# Inverse CDF \n",
    "#"
   ]
  },
  {
   "cell_type": "code",
   "execution_count": 12,
   "metadata": {},
   "outputs": [
    {
     "name": "stdout",
     "output_type": "stream",
     "text": [
      "1.959963984540054\n"
     ]
    }
   ],
   "source": [
    "from scipy.stats import norm\n",
    "print(norm.ppf(0.975))"
   ]
  },
  {
   "cell_type": "code",
   "execution_count": 13,
   "metadata": {},
   "outputs": [],
   "source": [
    "#\n",
    "# ppf = percent point function (inverse CDF)\n",
    "#"
   ]
  },
  {
   "cell_type": "code",
   "execution_count": 14,
   "metadata": {},
   "outputs": [
    {
     "name": "stdout",
     "output_type": "stream",
     "text": [
      "-1.9599639845400545\n"
     ]
    }
   ],
   "source": [
    "print(norm.ppf(0.025))"
   ]
  },
  {
   "cell_type": "code",
   "execution_count": 15,
   "metadata": {},
   "outputs": [],
   "source": [
    "#\n",
    "# Confidence Interval\n",
    "#"
   ]
  },
  {
   "cell_type": "markdown",
   "metadata": {},
   "source": [
    "$ [\\hat{\\mu} + z_{left} (\\sigma/\\sqrt{N}) , \\hat{\\mu} + z_{right} (\\sigma/\\sqrt{N}) ] $\n",
    "\n",
    "where\n",
    "\n",
    "$ z = \\frac{( x - \\mu) }{ (\\sigma / \\sqrt{N})} $"
   ]
  },
  {
   "cell_type": "markdown",
   "metadata": {},
   "source": [
    "So we have a confidence level interval\n",
    "\n",
    "Awesome\n",
    "\n",
    "but what is the problem with this range?\n",
    "\n",
    "We need to know sigma \n",
    "\n",
    "If we don't know sigma, we can use estimated sigma instead - sqrt of maximum likelihood estimate of the variance"
   ]
  },
  {
   "cell_type": "markdown",
   "metadata": {},
   "source": [
    "$ \\hat{\\sigma} = \\sqrt{ \\frac{1}{N}  \\sum_{i=1}^{N} (x_{i}-\\hat{\\mu})^{2} } $"
   ]
  },
  {
   "cell_type": "markdown",
   "metadata": {},
   "source": [
    "We can use exactly the same formula"
   ]
  },
  {
   "cell_type": "markdown",
   "metadata": {},
   "source": [
    "$ [\\hat{\\mu} + z_{left} (\\sigma/\\sqrt{N}) , \\hat{\\mu} + z_{right} (\\sigma/\\sqrt{N}) ] $"
   ]
  },
  {
   "cell_type": "markdown",
   "metadata": {},
   "source": [
    "for Gaussian and Bernulli distributions\n",
    "For Bernulli we just replace the Gaussian symbols with Bernulli symbols"
   ]
  },
  {
   "cell_type": "markdown",
   "metadata": {},
   "source": [
    "var(X) = p(1-p)"
   ]
  },
  {
   "cell_type": "markdown",
   "metadata": {},
   "source": [
    "$ [\\hat{p} + z_{left} (\\sqrt{\\frac{\\hat{p}(1-\\hat{p})}{N}}) , \\hat{p} + z_{right} (\\sqrt{\\frac{\\hat{p}(1-\\hat{p})}{N}}) ] $"
   ]
  },
  {
   "cell_type": "code",
   "execution_count": null,
   "metadata": {},
   "outputs": [],
   "source": []
  }
 ],
 "metadata": {
  "kernelspec": {
   "display_name": "Python 2",
   "language": "python",
   "name": "python2"
  },
  "language_info": {
   "codemirror_mode": {
    "name": "ipython",
    "version": 2
   },
   "file_extension": ".py",
   "mimetype": "text/x-python",
   "name": "python",
   "nbconvert_exporter": "python",
   "pygments_lexer": "ipython2",
   "version": "2.7.15"
  }
 },
 "nbformat": 4,
 "nbformat_minor": 2
}
